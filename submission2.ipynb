{
 "cells": [
  {
   "cell_type": "code",
   "execution_count": 97,
   "metadata": {},
   "outputs": [],
   "source": [
    "import pandas as pd\n",
    "import numpy as np\n",
    "from sklearn import preprocessing\n",
    "from sklearn.model_selection import train_test_split, GridSearchCV\n",
    "\n",
    "from sklearn.ensemble import RandomForestClassifier\n",
    "from sklearn.linear_model import LogisticRegression\n",
    "from sklearn.tree import DecisionTreeClassifier\n",
    "from sklearn.neighbors import KNeighborsClassifier\n",
    "from sklearn.naive_bayes import GaussianNB\n",
    "from sklearn.linear_model import SGDClassifier"
   ]
  },
  {
   "cell_type": "code",
   "execution_count": 73,
   "metadata": {},
   "outputs": [
    {
     "name": "stdout",
     "output_type": "stream",
     "text": [
      "(17176, 14)\n"
     ]
    }
   ],
   "source": [
    "df = pd.read_csv('train.csv')\n",
    "print (df.shape)\n",
    "\n",
    "df = df.fillna(0) # Handle missing values"
   ]
  },
  {
   "cell_type": "code",
   "execution_count": 74,
   "metadata": {},
   "outputs": [],
   "source": [
    "X = df.iloc[:, 1:-1]\n",
    "y = df.iloc[:, -1]\n",
    "y = [1 if each == 'correct' else 0 for each in y]\n",
    "X = X.drop(['pickup_time', 'drop_time', 'pick_lat', 'pick_lon', 'drop_lat', 'drop_lon'], axis=1)\n",
    "# X = X.drop(['pickup_time', 'drop_time'], axis=1)"
   ]
  },
  {
   "cell_type": "code",
   "execution_count": 75,
   "metadata": {},
   "outputs": [],
   "source": [
    "X_train, X_test, y_train, y_test = train_test_split(X, y, test_size=0.2, random_state=42, stratify=y)"
   ]
  },
  {
   "cell_type": "code",
   "execution_count": 154,
   "metadata": {},
   "outputs": [],
   "source": [
    "# clf = RandomForestClassifier()\n",
    "# clf = RandomForestClassifier(criterion='entropy', class_weight='balanced')\n",
    "# clf = RandomForestClassifier(criterion='entropy', min_samples_split=2)\n",
    "\n",
    "# clf = LogisticRegression(max_iter=1000, class_weight='balanced')\n",
    "# clf = DecisionTreeClassifier()\n",
    "# clf = DecisionTreeClassifier(criterion='entropy', splitter='best', min_samples_split=2, random_state=42, max_depth=4, ccp_alpha=0.002, class_weight='balanced')\n",
    "clf = KNeighborsClassifier(n_neighbors=7)\n",
    "# clf = GaussianNB()\n",
    "# clf = SGDClassifier(class_weight='balanced', max_iter=10000)"
   ]
  },
  {
   "cell_type": "code",
   "execution_count": 155,
   "metadata": {},
   "outputs": [],
   "source": [
    "# param_grid = {'criterion': ['gini', 'entropy'], 'min_samples_split': [2, 3], 'min_samples_leaf': [1, 2], 'max_features': ['auto', 'log2', None]}\n",
    "# param_grid = {'criterion': ['gini', 'entropy'], 'min_samples_split': [2, 3]}\n",
    "\n",
    "# grid = GridSearchCV(clf, param_grid, cv=10, scoring='accuracy', return_train_score=False)\n",
    "# grid.fit(X, y)\n",
    "# print (pd.DataFrame(grid.cv_results_)[['mean_test_score', 'std_test_score', 'params']])\n",
    "# print(grid.best_score_)\n",
    "# print(grid.best_params_)"
   ]
  },
  {
   "cell_type": "code",
   "execution_count": 156,
   "metadata": {},
   "outputs": [
    {
     "name": "stdout",
     "output_type": "stream",
     "text": [
      "model score: 0.948\n"
     ]
    }
   ],
   "source": [
    "clf.fit(X_train, y_train)\n",
    "print(\"model score: %.3f\" % clf.score(X_test, y_test))"
   ]
  },
  {
   "cell_type": "code",
   "execution_count": 157,
   "metadata": {},
   "outputs": [
    {
     "name": "stdout",
     "output_type": "stream",
     "text": [
      "[1 1 1 ... 1 1 1]\n"
     ]
    }
   ],
   "source": [
    "# Use whole dataset to fit the classifier\n",
    "clf.fit(X, y)\n",
    "\n",
    "new_df = pd.read_csv('test.csv')\n",
    "\n",
    "new_X = new_df.drop(['tripid', 'pickup_time', 'drop_time', 'pick_lat', 'pick_lon', 'drop_lat', 'drop_lon'], axis=1)\n",
    "# new_X = new_df.drop(['tripid', 'pickup_time', 'drop_time'], axis=1)\n",
    "\n",
    "y_pred = clf.predict(new_X)\n",
    "print (y_pred)\n",
    "\n",
    "Y_results = pd.DataFrame(new_df['tripid'])\n",
    "Y_results.insert(1, column='prediction', value=y_pred)\n",
    "Y_results.to_csv('pred.csv', index=False)"
   ]
  },
  {
   "cell_type": "code",
   "execution_count": null,
   "metadata": {},
   "outputs": [],
   "source": []
  }
 ],
 "metadata": {
  "kernelspec": {
   "display_name": "Python 3",
   "language": "python",
   "name": "python3"
  },
  "language_info": {
   "codemirror_mode": {
    "name": "ipython",
    "version": 3
   },
   "file_extension": ".py",
   "mimetype": "text/x-python",
   "name": "python",
   "nbconvert_exporter": "python",
   "pygments_lexer": "ipython3",
   "version": "3.8.1"
  }
 },
 "nbformat": 4,
 "nbformat_minor": 4
}
