{
 "cells": [
  {
   "cell_type": "code",
   "execution_count": 78,
   "metadata": {},
   "outputs": [],
   "source": [
    "import pandas as pd\n",
    "import numpy as np\n",
    "from sklearn import preprocessing\n",
    "from sklearn.model_selection import train_test_split\n",
    "from sklearn.ensemble import RandomForestClassifier"
   ]
  },
  {
   "cell_type": "code",
   "execution_count": 79,
   "metadata": {},
   "outputs": [
    {
     "name": "stdout",
     "output_type": "stream",
     "text": [
      "(17176, 14)\n"
     ]
    }
   ],
   "source": [
    "df = pd.read_csv('train.csv')\n",
    "print (df.shape)\n",
    "# Handle missing values\n",
    "df = df.fillna(0)"
   ]
  },
  {
   "cell_type": "code",
   "execution_count": 80,
   "metadata": {},
   "outputs": [
    {
     "name": "stdout",
     "output_type": "stream",
     "text": [
      "   additional_fare  duration  meter_waiting  meter_waiting_fare  \\\n",
      "0             10.5     834.0           56.0              0.0000   \n",
      "1             10.5     791.0           47.0              0.0000   \n",
      "2             10.5    1087.0           80.0              0.0000   \n",
      "3             10.5     598.0          271.0             15.6638   \n",
      "4              0.0       0.0            0.0              0.0000   \n",
      "\n",
      "   meter_waiting_till_pickup     pickup_time       drop_time  pick_lat  \\\n",
      "0                       64.0  11/1/2019 0:20  11/1/2019 0:34   6.86252   \n",
      "1                      134.0  11/1/2019 0:56  11/1/2019 1:09   6.88589   \n",
      "2                       61.0  11/1/2019 1:08  11/1/2019 1:26   6.90839   \n",
      "3                       68.0  11/1/2019 2:27  11/1/2019 2:37   6.92570   \n",
      "4                        0.0  11/1/2019 3:34  11/1/2019 3:51   6.87441   \n",
      "\n",
      "   pick_lon  drop_lat  drop_lon    fare  \n",
      "0   79.8993   6.90330   79.8783  270.32  \n",
      "1   79.8984   6.91373   79.8923  197.85  \n",
      "2   79.8651   6.93669   79.9146  301.64  \n",
      "3   79.8895   6.92748   79.8971   82.30  \n",
      "4   79.8615   6.84478   79.9290  358.39  \n",
      "{0, 1}\n"
     ]
    }
   ],
   "source": [
    "X = df.iloc[:, 1:-1]\n",
    "y = df.iloc[:, -1]\n",
    "\n",
    "# le = preprocessing.LabelEncoder()\n",
    "# y = le.fit_transform(y)\n",
    "\n",
    "y = [1 if each == 'correct' else 0 for each in y]\n",
    "\n",
    "# Check for class imbalance for the training\n",
    "print(X.head())\n",
    "print (set(y))\n",
    "\n",
    "# for i, item in enumerate(le.classes_):\n",
    "#     print(item, \"-->\", i)\n",
    "\n",
    "X = X.drop(['pickup_time', 'drop_time', 'pick_lat', 'pick_lon', 'drop_lat', 'drop_lon'],\n",
    "                            axis=1)"
   ]
  },
  {
   "cell_type": "code",
   "execution_count": 87,
   "metadata": {},
   "outputs": [],
   "source": [
    "X_train, X_test, y_train, y_test = train_test_split(X, y, test_size=0.2, random_state=42, stratify=y)"
   ]
  },
  {
   "cell_type": "code",
   "execution_count": 88,
   "metadata": {},
   "outputs": [],
   "source": [
    "classifier = RandomForestClassifier()"
   ]
  },
  {
   "cell_type": "code",
   "execution_count": 89,
   "metadata": {},
   "outputs": [
    {
     "name": "stdout",
     "output_type": "stream",
     "text": [
      "model score: 0.950\n",
      "[1 1 1 ... 1 1 1]\n"
     ]
    }
   ],
   "source": [
    "# Use whole dataset to fit the classifier\n",
    "# clf.fit(X, y)\n",
    "\n",
    "clf.fit(X_train, y_train)\n",
    "print(\"model score: %.3f\" % clf.score(X_test, y_test))\n",
    "\n",
    "new_df = pd.read_csv('test.csv')\n",
    "\n",
    "# new_X = new_df.drop(columns='tripid')\n",
    "new_X = new_df.drop(['tripid', 'pickup_time', 'drop_time', 'pick_lat', 'pick_lon', 'drop_lat', 'drop_lon'],\n",
    "                            axis=1)\n",
    "# new_X.fillna(0)\n",
    "\n",
    "y_pred = clf.predict(new_X)\n",
    "print (y_pred)\n",
    "\n",
    "Y_results = pd.DataFrame(new_df['tripid'])\n",
    "Y_results.insert(1, column='prediction', value=y_pred)\n",
    "# print (Y_results)\n",
    "\n",
    "Y_results.to_csv('pred.csv', index=False)"
   ]
  },
  {
   "cell_type": "code",
   "execution_count": 11,
   "metadata": {
    "collapsed": true
   },
   "outputs": [
    {
     "name": "stdout",
     "output_type": "stream",
     "text": [
      "        Id Prediction\n",
      "0        1          C\n",
      "1        2          C\n",
      "2        3          D\n",
      "3        4          D\n",
      "4        5          D\n",
      "...    ...        ...\n",
      "1995  1996          A\n",
      "1996  1997          A\n",
      "1997  1998          E\n",
      "1998  1999          E\n",
      "1999  2000          E\n",
      "\n",
      "[2000 rows x 2 columns]\n"
     ]
    }
   ],
   "source": [
    "# # Use whole dataset to fit the classifier\n",
    "\n",
    "# clf.fit(X, y)\n",
    "# # print(\"model score: %.3f\" % clf.score(X_test, y_test))\n",
    "\n",
    "# new_df = pd.read_csv('cse_DS_Intro3TEST.csv')\n",
    "# new_X = new_df.drop(columns='ID')\n",
    "# # print (new_X)\n",
    "# y_pred = clf.predict(new_X)\n",
    "\n",
    "# Y_results = pd.DataFrame(new_df['ID'])\n",
    "# Y_results.rename(columns={\"ID\": \"Id\"}, inplace=True)\n",
    "# Y_results.insert(1, column='Prediction', value=y_pred)\n",
    "# print (Y_results)\n",
    "\n",
    "# Y_results.to_csv('pred.csv', index=False)\n",
    "\n",
    "# # print (y_pred)"
   ]
  },
  {
   "cell_type": "code",
   "execution_count": null,
   "metadata": {},
   "outputs": [],
   "source": []
  }
 ],
 "metadata": {
  "kernelspec": {
   "display_name": "Python 3",
   "language": "python",
   "name": "python3"
  },
  "language_info": {
   "codemirror_mode": {
    "name": "ipython",
    "version": 3
   },
   "file_extension": ".py",
   "mimetype": "text/x-python",
   "name": "python",
   "nbconvert_exporter": "python",
   "pygments_lexer": "ipython3",
   "version": "3.8.1"
  }
 },
 "nbformat": 4,
 "nbformat_minor": 4
}
